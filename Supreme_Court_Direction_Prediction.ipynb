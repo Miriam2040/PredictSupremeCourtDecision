{
 "cells": [
  {
   "cell_type": "markdown",
   "metadata": {
    "id": "uZhRreB48I61"
   },
   "source": [
    "Predicting the Direction of the Supreme Court of the United States: A Machine Learning Approach\n",
    "==================\n",
    "  *  __Title__:Predicting the Direction of the Supreme Court of the United States: A Machine Learning Approach\n",
    "\n",
    "  *  __Authors__: Roy Guy, Ziv Bogoslavsky, Miriam Horovicz \n",
    "\n",
    "## Paper Abstract\n",
    "We construct a model designed to predict the voting behavior of the Supreme Court of the United States. Using only data available prior to the date of decision, our model correctly identifies 78% of the Court’s direction. We are using RandomForestClassifier as our model.\n",
    "## Data Description\n",
    "The data used in this paper is available from the [Supreme Court Database (SCDB)](http://scdb.wustl.edu/).\n"
   ]
  },
  {
   "cell_type": "markdown",
   "metadata": {
    "id": "8aFB2gUy_QqW"
   },
   "source": [
    "## Loading Data"
   ]
  },
  {
   "cell_type": "code",
   "execution_count": 1,
   "metadata": {
    "colab": {
     "base_uri": "https://localhost:8080/",
     "height": 564
    },
    "id": "c_qAv53d8I68",
    "outputId": "d874ab1d-af2d-4637-a582-dabc46ae67f5"
   },
   "outputs": [
    {
     "data": {
      "text/html": [
       "<div>\n",
       "<style scoped>\n",
       "    .dataframe tbody tr th:only-of-type {\n",
       "        vertical-align: middle;\n",
       "    }\n",
       "\n",
       "    .dataframe tbody tr th {\n",
       "        vertical-align: top;\n",
       "    }\n",
       "\n",
       "    .dataframe thead th {\n",
       "        text-align: right;\n",
       "    }\n",
       "</style>\n",
       "<table border=\"1\" class=\"dataframe\">\n",
       "  <thead>\n",
       "    <tr style=\"text-align: right;\">\n",
       "      <th></th>\n",
       "      <th>caseId</th>\n",
       "      <th>docketId</th>\n",
       "      <th>caseIssuesId</th>\n",
       "      <th>voteId</th>\n",
       "      <th>dateDecision</th>\n",
       "      <th>decisionType</th>\n",
       "      <th>usCite</th>\n",
       "      <th>sctCite</th>\n",
       "      <th>ledCite</th>\n",
       "      <th>lexisCite</th>\n",
       "      <th>...</th>\n",
       "      <th>majVotes</th>\n",
       "      <th>minVotes</th>\n",
       "      <th>justice</th>\n",
       "      <th>justiceName</th>\n",
       "      <th>vote</th>\n",
       "      <th>opinion</th>\n",
       "      <th>direction</th>\n",
       "      <th>majority</th>\n",
       "      <th>firstAgreement</th>\n",
       "      <th>secondAgreement</th>\n",
       "    </tr>\n",
       "  </thead>\n",
       "  <tbody>\n",
       "    <tr>\n",
       "      <th>0</th>\n",
       "      <td>1946-001</td>\n",
       "      <td>1946-001-01</td>\n",
       "      <td>1946-001-01-01</td>\n",
       "      <td>1946-001-01-01-01-01</td>\n",
       "      <td>11/18/1946</td>\n",
       "      <td>1</td>\n",
       "      <td>329 U.S. 1</td>\n",
       "      <td>67 S. Ct. 6</td>\n",
       "      <td>91 L. Ed. 3</td>\n",
       "      <td>1946 U.S. LEXIS 1724</td>\n",
       "      <td>...</td>\n",
       "      <td>8</td>\n",
       "      <td>1</td>\n",
       "      <td>86</td>\n",
       "      <td>HHBurton</td>\n",
       "      <td>2.0</td>\n",
       "      <td>1.0</td>\n",
       "      <td>1.0</td>\n",
       "      <td>1.0</td>\n",
       "      <td>NaN</td>\n",
       "      <td>NaN</td>\n",
       "    </tr>\n",
       "    <tr>\n",
       "      <th>1</th>\n",
       "      <td>1946-001</td>\n",
       "      <td>1946-001-01</td>\n",
       "      <td>1946-001-01-01</td>\n",
       "      <td>1946-001-01-01-01-02</td>\n",
       "      <td>11/18/1946</td>\n",
       "      <td>1</td>\n",
       "      <td>329 U.S. 1</td>\n",
       "      <td>67 S. Ct. 6</td>\n",
       "      <td>91 L. Ed. 3</td>\n",
       "      <td>1946 U.S. LEXIS 1724</td>\n",
       "      <td>...</td>\n",
       "      <td>8</td>\n",
       "      <td>1</td>\n",
       "      <td>84</td>\n",
       "      <td>RHJackson</td>\n",
       "      <td>1.0</td>\n",
       "      <td>1.0</td>\n",
       "      <td>2.0</td>\n",
       "      <td>2.0</td>\n",
       "      <td>NaN</td>\n",
       "      <td>NaN</td>\n",
       "    </tr>\n",
       "    <tr>\n",
       "      <th>2</th>\n",
       "      <td>1946-001</td>\n",
       "      <td>1946-001-01</td>\n",
       "      <td>1946-001-01-01</td>\n",
       "      <td>1946-001-01-01-01-03</td>\n",
       "      <td>11/18/1946</td>\n",
       "      <td>1</td>\n",
       "      <td>329 U.S. 1</td>\n",
       "      <td>67 S. Ct. 6</td>\n",
       "      <td>91 L. Ed. 3</td>\n",
       "      <td>1946 U.S. LEXIS 1724</td>\n",
       "      <td>...</td>\n",
       "      <td>8</td>\n",
       "      <td>1</td>\n",
       "      <td>81</td>\n",
       "      <td>WODouglas</td>\n",
       "      <td>1.0</td>\n",
       "      <td>1.0</td>\n",
       "      <td>2.0</td>\n",
       "      <td>2.0</td>\n",
       "      <td>NaN</td>\n",
       "      <td>NaN</td>\n",
       "    </tr>\n",
       "    <tr>\n",
       "      <th>3</th>\n",
       "      <td>1946-001</td>\n",
       "      <td>1946-001-01</td>\n",
       "      <td>1946-001-01-01</td>\n",
       "      <td>1946-001-01-01-01-04</td>\n",
       "      <td>11/18/1946</td>\n",
       "      <td>1</td>\n",
       "      <td>329 U.S. 1</td>\n",
       "      <td>67 S. Ct. 6</td>\n",
       "      <td>91 L. Ed. 3</td>\n",
       "      <td>1946 U.S. LEXIS 1724</td>\n",
       "      <td>...</td>\n",
       "      <td>8</td>\n",
       "      <td>1</td>\n",
       "      <td>80</td>\n",
       "      <td>FFrankfurter</td>\n",
       "      <td>4.0</td>\n",
       "      <td>2.0</td>\n",
       "      <td>2.0</td>\n",
       "      <td>2.0</td>\n",
       "      <td>NaN</td>\n",
       "      <td>NaN</td>\n",
       "    </tr>\n",
       "    <tr>\n",
       "      <th>4</th>\n",
       "      <td>1946-001</td>\n",
       "      <td>1946-001-01</td>\n",
       "      <td>1946-001-01-01</td>\n",
       "      <td>1946-001-01-01-01-05</td>\n",
       "      <td>11/18/1946</td>\n",
       "      <td>1</td>\n",
       "      <td>329 U.S. 1</td>\n",
       "      <td>67 S. Ct. 6</td>\n",
       "      <td>91 L. Ed. 3</td>\n",
       "      <td>1946 U.S. LEXIS 1724</td>\n",
       "      <td>...</td>\n",
       "      <td>8</td>\n",
       "      <td>1</td>\n",
       "      <td>79</td>\n",
       "      <td>SFReed</td>\n",
       "      <td>1.0</td>\n",
       "      <td>1.0</td>\n",
       "      <td>2.0</td>\n",
       "      <td>2.0</td>\n",
       "      <td>NaN</td>\n",
       "      <td>NaN</td>\n",
       "    </tr>\n",
       "  </tbody>\n",
       "</table>\n",
       "<p>5 rows × 61 columns</p>\n",
       "</div>"
      ],
      "text/plain": [
       "     caseId     docketId    caseIssuesId                voteId dateDecision  \\\n",
       "0  1946-001  1946-001-01  1946-001-01-01  1946-001-01-01-01-01   11/18/1946   \n",
       "1  1946-001  1946-001-01  1946-001-01-01  1946-001-01-01-01-02   11/18/1946   \n",
       "2  1946-001  1946-001-01  1946-001-01-01  1946-001-01-01-01-03   11/18/1946   \n",
       "3  1946-001  1946-001-01  1946-001-01-01  1946-001-01-01-01-04   11/18/1946   \n",
       "4  1946-001  1946-001-01  1946-001-01-01  1946-001-01-01-01-05   11/18/1946   \n",
       "\n",
       "   decisionType      usCite      sctCite      ledCite             lexisCite  \\\n",
       "0             1  329 U.S. 1  67 S. Ct. 6  91 L. Ed. 3  1946 U.S. LEXIS 1724   \n",
       "1             1  329 U.S. 1  67 S. Ct. 6  91 L. Ed. 3  1946 U.S. LEXIS 1724   \n",
       "2             1  329 U.S. 1  67 S. Ct. 6  91 L. Ed. 3  1946 U.S. LEXIS 1724   \n",
       "3             1  329 U.S. 1  67 S. Ct. 6  91 L. Ed. 3  1946 U.S. LEXIS 1724   \n",
       "4             1  329 U.S. 1  67 S. Ct. 6  91 L. Ed. 3  1946 U.S. LEXIS 1724   \n",
       "\n",
       "   ...  majVotes  minVotes justice   justiceName vote opinion direction  \\\n",
       "0  ...         8         1      86      HHBurton  2.0     1.0       1.0   \n",
       "1  ...         8         1      84     RHJackson  1.0     1.0       2.0   \n",
       "2  ...         8         1      81     WODouglas  1.0     1.0       2.0   \n",
       "3  ...         8         1      80  FFrankfurter  4.0     2.0       2.0   \n",
       "4  ...         8         1      79        SFReed  1.0     1.0       2.0   \n",
       "\n",
       "   majority  firstAgreement  secondAgreement  \n",
       "0       1.0             NaN              NaN  \n",
       "1       2.0             NaN              NaN  \n",
       "2       2.0             NaN              NaN  \n",
       "3       2.0             NaN              NaN  \n",
       "4       2.0             NaN              NaN  \n",
       "\n",
       "[5 rows x 61 columns]"
      ]
     },
     "execution_count": 1,
     "metadata": {},
     "output_type": "execute_result"
    }
   ],
   "source": [
    "import pandas as pd\n",
    "\n",
    "data = pd.read_csv('SCDB_2020_01_justiceCentered_Citation.csv', encoding='Windows-1252')\n",
    "data.head()"
   ]
  },
  {
   "cell_type": "code",
   "execution_count": 2,
   "metadata": {
    "id": "6e4b16VXkJxw"
   },
   "outputs": [],
   "source": [
    "data['dateDecision'] = pd.to_datetime(data['dateDecision'])"
   ]
  },
  {
   "cell_type": "code",
   "execution_count": 3,
   "metadata": {},
   "outputs": [
    {
     "data": {
      "text/plain": [
       "118.0"
      ]
     },
     "execution_count": 3,
     "metadata": {},
     "output_type": "execute_result"
    }
   ],
   "source": [
    "data['adminAction'].max()"
   ]
  },
  {
   "cell_type": "code",
   "execution_count": 4,
   "metadata": {
    "colab": {
     "base_uri": "https://localhost:8080/"
    },
    "id": "_bI5NO52haTy",
    "outputId": "d38c0f20-e0ee-424b-8096-aaa0716f3bc9"
   },
   "outputs": [
    {
     "data": {
      "text/plain": [
       "(3737, 61)"
      ]
     },
     "execution_count": 4,
     "metadata": {},
     "output_type": "execute_result"
    }
   ],
   "source": [
    "filter_data = data[data[\"dateDecision\"]> \"2015-01-01\"]\n",
    "filter_data.shape"
   ]
  },
  {
   "cell_type": "code",
   "execution_count": 5,
   "metadata": {
    "id": "h1zSSdSAhrxF"
   },
   "outputs": [],
   "source": [
    "data = filter_data"
   ]
  },
  {
   "cell_type": "markdown",
   "metadata": {
    "id": "VNJoaBdnAEsJ"
   },
   "source": [
    "## Remove non relevant features "
   ]
  },
  {
   "cell_type": "code",
   "execution_count": 6,
   "metadata": {
    "colab": {
     "base_uri": "https://localhost:8080/"
    },
    "id": "Epmhvq1I8I6_",
    "outputId": "006c0864-59f0-4657-dfd3-6d9f88716bab"
   },
   "outputs": [
    {
     "data": {
      "text/plain": [
       "(3737, 15)"
      ]
     },
     "execution_count": 6,
     "metadata": {},
     "output_type": "execute_result"
    }
   ],
   "source": [
    "data = data.drop(columns = ['justice', 'docketId', 'caseIssuesId', 'voteId', 'dateDecision',\n",
    "                                        'usCite', 'sctCite', 'ledCite', 'lexisCite',\n",
    "                                        'docket', 'caseName', 'petitionerState', 'respondentState',\n",
    "                                        'adminActionState', 'caseOriginState',\n",
    "                                        'caseSourceState', 'declarationUncon',\n",
    "                                        'caseDispositionUnusual', 'partyWinning', 'voteUnclear',\n",
    "                                        'decisionDirectionDissent', 'authorityDecision1', 'authorityDecision2',\n",
    "                                        'lawSupp', 'lawMinor', 'majOpinWriter', 'majOpinAssigner',\n",
    "                                        'splitVote','firstAgreement', 'secondAgreement',\n",
    "                                        'dateArgument', 'dateRearg', 'petitioner', 'respondent',\n",
    "                                        'term', 'caseDisposition', 'decisionDirection',\n",
    "                                        'majVotes', 'minVotes', 'majority', 'vote', 'opinion',\n",
    "                                        'precedentAlteration', 'issueArea','caseId','justiceName'])\n",
    "data.shape"
   ]
  },
  {
   "cell_type": "code",
   "execution_count": 7,
   "metadata": {},
   "outputs": [
    {
     "data": {
      "text/html": [
       "<div>\n",
       "<style scoped>\n",
       "    .dataframe tbody tr th:only-of-type {\n",
       "        vertical-align: middle;\n",
       "    }\n",
       "\n",
       "    .dataframe tbody tr th {\n",
       "        vertical-align: top;\n",
       "    }\n",
       "\n",
       "    .dataframe thead th {\n",
       "        text-align: right;\n",
       "    }\n",
       "</style>\n",
       "<table border=\"1\" class=\"dataframe\">\n",
       "  <thead>\n",
       "    <tr style=\"text-align: right;\">\n",
       "      <th></th>\n",
       "      <th>issue</th>\n",
       "      <th>caseOrigin</th>\n",
       "      <th>caseSource</th>\n",
       "      <th>certReason</th>\n",
       "      <th>lawType</th>\n",
       "      <th>naturalCourt</th>\n",
       "      <th>adminAction</th>\n",
       "      <th>direction</th>\n",
       "    </tr>\n",
       "  </thead>\n",
       "  <tbody>\n",
       "    <tr>\n",
       "      <th>77045</th>\n",
       "      <td>30160.0</td>\n",
       "      <td>46.0</td>\n",
       "      <td>28.0</td>\n",
       "      <td>12.0</td>\n",
       "      <td>6.0</td>\n",
       "      <td>1704</td>\n",
       "      <td>NaN</td>\n",
       "      <td>2.0</td>\n",
       "    </tr>\n",
       "    <tr>\n",
       "      <th>77046</th>\n",
       "      <td>30160.0</td>\n",
       "      <td>46.0</td>\n",
       "      <td>28.0</td>\n",
       "      <td>12.0</td>\n",
       "      <td>6.0</td>\n",
       "      <td>1704</td>\n",
       "      <td>NaN</td>\n",
       "      <td>2.0</td>\n",
       "    </tr>\n",
       "    <tr>\n",
       "      <th>77047</th>\n",
       "      <td>30160.0</td>\n",
       "      <td>46.0</td>\n",
       "      <td>28.0</td>\n",
       "      <td>12.0</td>\n",
       "      <td>6.0</td>\n",
       "      <td>1704</td>\n",
       "      <td>NaN</td>\n",
       "      <td>2.0</td>\n",
       "    </tr>\n",
       "    <tr>\n",
       "      <th>77048</th>\n",
       "      <td>30160.0</td>\n",
       "      <td>46.0</td>\n",
       "      <td>28.0</td>\n",
       "      <td>12.0</td>\n",
       "      <td>6.0</td>\n",
       "      <td>1704</td>\n",
       "      <td>NaN</td>\n",
       "      <td>2.0</td>\n",
       "    </tr>\n",
       "    <tr>\n",
       "      <th>77049</th>\n",
       "      <td>30160.0</td>\n",
       "      <td>46.0</td>\n",
       "      <td>28.0</td>\n",
       "      <td>12.0</td>\n",
       "      <td>6.0</td>\n",
       "      <td>1704</td>\n",
       "      <td>NaN</td>\n",
       "      <td>2.0</td>\n",
       "    </tr>\n",
       "  </tbody>\n",
       "</table>\n",
       "</div>"
      ],
      "text/plain": [
       "         issue  caseOrigin  caseSource  certReason  lawType  naturalCourt  \\\n",
       "77045  30160.0        46.0        28.0        12.0      6.0          1704   \n",
       "77046  30160.0        46.0        28.0        12.0      6.0          1704   \n",
       "77047  30160.0        46.0        28.0        12.0      6.0          1704   \n",
       "77048  30160.0        46.0        28.0        12.0      6.0          1704   \n",
       "77049  30160.0        46.0        28.0        12.0      6.0          1704   \n",
       "\n",
       "       adminAction  direction  \n",
       "77045          NaN        2.0  \n",
       "77046          NaN        2.0  \n",
       "77047          NaN        2.0  \n",
       "77048          NaN        2.0  \n",
       "77049          NaN        2.0  "
      ]
     },
     "execution_count": 7,
     "metadata": {},
     "output_type": "execute_result"
    }
   ],
   "source": [
    "kk = data[['issue','caseOrigin','caseSource','certReason','lawType','naturalCourt','adminAction','direction']]\n",
    "kk.head()"
   ]
  },
  {
   "cell_type": "code",
   "execution_count": 8,
   "metadata": {},
   "outputs": [],
   "source": [
    "data = kk"
   ]
  },
  {
   "cell_type": "markdown",
   "metadata": {
    "id": "5GLWk13KD91f"
   },
   "source": [
    "## Data Manipulation "
   ]
  },
  {
   "cell_type": "code",
   "execution_count": 9,
   "metadata": {
    "colab": {
     "base_uri": "https://localhost:8080/"
    },
    "id": "eo8sYVqy8I7A",
    "outputId": "41ae34bd-256e-40ed-faa5-46c6eb480b87"
   },
   "outputs": [
    {
     "data": {
      "text/plain": [
       "(3488, 8)"
      ]
     },
     "execution_count": 9,
     "metadata": {},
     "output_type": "execute_result"
    }
   ],
   "source": [
    "data = data.dropna(axis=0, subset=['direction'])\n",
    "data.shape"
   ]
  },
  {
   "cell_type": "code",
   "execution_count": 10,
   "metadata": {
    "id": "LngllXCDHUeS"
   },
   "outputs": [],
   "source": [
    "data = data.fillna(0)"
   ]
  },
  {
   "cell_type": "code",
   "execution_count": 11,
   "metadata": {
    "id": "7gzYZF7I8I7A"
   },
   "outputs": [],
   "source": [
    "data['direction'] = data['direction'].apply(lambda val: int(val))"
   ]
  },
  {
   "cell_type": "code",
   "execution_count": 12,
   "metadata": {
    "id": "V5MBSOZz8I7B"
   },
   "outputs": [],
   "source": [
    "x = data.drop('direction',axis=1)\n",
    "y = data['direction']"
   ]
  },
  {
   "cell_type": "code",
   "execution_count": 13,
   "metadata": {},
   "outputs": [
    {
     "data": {
      "text/html": [
       "<div>\n",
       "<style scoped>\n",
       "    .dataframe tbody tr th:only-of-type {\n",
       "        vertical-align: middle;\n",
       "    }\n",
       "\n",
       "    .dataframe tbody tr th {\n",
       "        vertical-align: top;\n",
       "    }\n",
       "\n",
       "    .dataframe thead th {\n",
       "        text-align: right;\n",
       "    }\n",
       "</style>\n",
       "<table border=\"1\" class=\"dataframe\">\n",
       "  <thead>\n",
       "    <tr style=\"text-align: right;\">\n",
       "      <th></th>\n",
       "      <th>issue</th>\n",
       "      <th>caseOrigin</th>\n",
       "      <th>caseSource</th>\n",
       "      <th>certReason</th>\n",
       "      <th>lawType</th>\n",
       "      <th>naturalCourt</th>\n",
       "      <th>adminAction</th>\n",
       "    </tr>\n",
       "  </thead>\n",
       "  <tbody>\n",
       "    <tr>\n",
       "      <th>77045</th>\n",
       "      <td>30160.0</td>\n",
       "      <td>46.0</td>\n",
       "      <td>28.0</td>\n",
       "      <td>12.0</td>\n",
       "      <td>6.0</td>\n",
       "      <td>1704</td>\n",
       "      <td>0.0</td>\n",
       "    </tr>\n",
       "    <tr>\n",
       "      <th>77046</th>\n",
       "      <td>30160.0</td>\n",
       "      <td>46.0</td>\n",
       "      <td>28.0</td>\n",
       "      <td>12.0</td>\n",
       "      <td>6.0</td>\n",
       "      <td>1704</td>\n",
       "      <td>0.0</td>\n",
       "    </tr>\n",
       "    <tr>\n",
       "      <th>77047</th>\n",
       "      <td>30160.0</td>\n",
       "      <td>46.0</td>\n",
       "      <td>28.0</td>\n",
       "      <td>12.0</td>\n",
       "      <td>6.0</td>\n",
       "      <td>1704</td>\n",
       "      <td>0.0</td>\n",
       "    </tr>\n",
       "    <tr>\n",
       "      <th>77048</th>\n",
       "      <td>30160.0</td>\n",
       "      <td>46.0</td>\n",
       "      <td>28.0</td>\n",
       "      <td>12.0</td>\n",
       "      <td>6.0</td>\n",
       "      <td>1704</td>\n",
       "      <td>0.0</td>\n",
       "    </tr>\n",
       "    <tr>\n",
       "      <th>77049</th>\n",
       "      <td>30160.0</td>\n",
       "      <td>46.0</td>\n",
       "      <td>28.0</td>\n",
       "      <td>12.0</td>\n",
       "      <td>6.0</td>\n",
       "      <td>1704</td>\n",
       "      <td>0.0</td>\n",
       "    </tr>\n",
       "  </tbody>\n",
       "</table>\n",
       "</div>"
      ],
      "text/plain": [
       "         issue  caseOrigin  caseSource  certReason  lawType  naturalCourt  \\\n",
       "77045  30160.0        46.0        28.0        12.0      6.0          1704   \n",
       "77046  30160.0        46.0        28.0        12.0      6.0          1704   \n",
       "77047  30160.0        46.0        28.0        12.0      6.0          1704   \n",
       "77048  30160.0        46.0        28.0        12.0      6.0          1704   \n",
       "77049  30160.0        46.0        28.0        12.0      6.0          1704   \n",
       "\n",
       "       adminAction  \n",
       "77045          0.0  \n",
       "77046          0.0  \n",
       "77047          0.0  \n",
       "77048          0.0  \n",
       "77049          0.0  "
      ]
     },
     "execution_count": 13,
     "metadata": {},
     "output_type": "execute_result"
    }
   ],
   "source": [
    "x.head()"
   ]
  },
  {
   "cell_type": "markdown",
   "metadata": {
    "id": "RrKf2g8tapJO"
   },
   "source": [
    "\n",
    "\n",
    "\n",
    "\n",
    "## Run Model"
   ]
  },
  {
   "cell_type": "code",
   "execution_count": 14,
   "metadata": {
    "id": "zKVhrmyX8I7B"
   },
   "outputs": [],
   "source": [
    "from sklearn.model_selection import train_test_split\n",
    "x_train, x_test, y_train, y_test = train_test_split(x, y, test_size=0.33, random_state=42)"
   ]
  },
  {
   "cell_type": "code",
   "execution_count": 21,
   "metadata": {
    "id": "YE5Kp2pN8I7C"
   },
   "outputs": [],
   "source": [
    "def results_plot_summary(y_true, y_scores, pos_label=1, labels = ['Negative', 'Positive'], labels_colors = ['r', 'b'], figsize = (24,6), metric_round = 3, bin_count = 10):\n",
    "    from sklearn import metrics\n",
    "    precision, recall, thresholds = metrics.precision_recall_curve(y_true, y_scores, pos_label=pos_label)\n",
    "    fpr, tpr, thresholds = metrics.roc_curve(y_true, y_scores, pos_label=pos_label)\n",
    "    \n",
    "    fig, (ax1, ax2, ax3) = plt.subplots(1,3, figsize=figsize)\n",
    "    sns.lineplot(x=fpr, y=tpr, ax=ax1)\n",
    "    ax1.set_title('Receiver Operating Characteristic')\n",
    "    ax1.set(xlabel='False Positive Rate', ylabel='True Positive Rate')\n",
    "    ax1.plot([0, 1], [0, 1])\n",
    "    sns.lineplot(x=recall, y=precision, ax=ax2)\n",
    "    ax2.set_title('Precision Recall Curve')\n",
    "    ax2.set(xlabel='Recall', ylabel='Precision')\n",
    "    sns.distplot(y_scores[y_true!=pos_label], bins = bin_count, kde=False, norm_hist=True, label=labels[0], color=labels_colors[0], ax=ax3)\n",
    "    sns.distplot(y_scores[y_true==pos_label], bins = bin_count, kde=False, norm_hist=True, label=labels[1], color=labels_colors[1], ax=ax3)\n",
    "    ax3.legend()\n",
    "    ax3.set_title('Probabilities')\n",
    "    ax3.set(xlabel='Score', ylabel='Density')\n",
    "\n",
    "    plt.show()\n",
    "    \n",
    "def calc_metrics(y_true, y_pred, y_scores, pos_label = 1):\n",
    "    output = {\n",
    "        'precision'              : metrics.precision_score(y_true, y_pred),\n",
    "        'recall'                 : metrics.recall_score(y_true, y_pred),\n",
    "        'average_precision_score': metrics.average_precision_score(y_true, y_scores),\n",
    "        'f1_score'               : metrics.f1_score(y_true, y_pred), \n",
    "        'roc_auc_score'          : metrics.roc_auc_score(y_true, y_scores)\n",
    "    }\n",
    "    return output\n",
    "\n",
    "def conf_matrix_threshold(y_true, y_scores, th = 0.5, labels = ['conservative', 'liberal'], labels_alias = ['Negative', 'Positive'], round_dec = 2):\n",
    "    y_pred = np.where(y_scores >= th, labels[1], labels[0])\n",
    "    conf_matrix = pd.DataFrame(\n",
    "        metrics.confusion_matrix(y_true, y_pred), \n",
    "        index   = ['Actual ' + labels_alias[0]   , 'Actual ' + labels_alias[1]], \n",
    "        columns = ['Predicted ' + labels_alias[0], 'Predicted ' + labels_alias[1]]\n",
    "    )\n",
    "    specifity         = round(100*(conf_matrix.iloc[0,0]) / (conf_matrix.iloc[0,0] + conf_matrix.iloc[0,1]), round_dec)\n",
    "    FPR               = round(100*(conf_matrix.iloc[0,1]) / (conf_matrix.iloc[0,1] + conf_matrix.iloc[0,0]), round_dec)\n",
    "    recall            = round(100*(conf_matrix.iloc[1,1]) / (conf_matrix.iloc[1,0] + conf_matrix.iloc[1,1]), round_dec)\n",
    "    precision         = round(100*(conf_matrix.iloc[1,1]) / (conf_matrix.iloc[0,1] + conf_matrix.iloc[1,1]), round_dec)\n",
    "    accuracy          = round(100*(conf_matrix.iloc[1,1] + conf_matrix.iloc[0,0]) / (conf_matrix.iloc[0,0] + conf_matrix.iloc[0,1] + conf_matrix.iloc[1,0] + conf_matrix.iloc[1,1]), round_dec)\n",
    "    balanced_accuracy = round((specifity + recall)/2, round_dec)  \n",
    "\n",
    "    \n",
    "    output = {\n",
    "        'specifity'         : [specifity],\n",
    "        'FPR'               : [FPR],\n",
    "        'recall'            : [recall],\n",
    "        'precision'         : [precision],\n",
    "        'accuracy'          : [accuracy],\n",
    "        'balanced_accuracy' : [balanced_accuracy]\n",
    "    }\n",
    "    return conf_matrix, output"
   ]
  },
  {
   "cell_type": "markdown",
   "metadata": {
    "id": "DusYzfQIdg_E"
   },
   "source": [
    "## Model training and performance results "
   ]
  },
  {
   "cell_type": "code",
   "execution_count": 23,
   "metadata": {
    "colab": {
     "base_uri": "https://localhost:8080/",
     "height": 737
    },
    "id": "QGG4lOti8I7C",
    "outputId": "c6163517-2f87-4b47-9649-85f846e7cde2"
   },
   "outputs": [
    {
     "name": "stdout",
     "output_type": "stream",
     "text": [
      "--Model Performance Charts--\n",
      "\n"
     ]
    },
    {
     "data": {
      "image/png": "[encoded data removed]",
      "text/plain": [
       "<Figure size 1728x288 with 3 Axes>"
      ]
     },
     "metadata": {
      "needs_background": "light"
     },
     "output_type": "display_data"
    },
    {
     "name": "stdout",
     "output_type": "stream",
     "text": [
      "\n",
      "--Confusion Matrix at Cutoff = 0.5--\n",
      "\n",
      "                     Predicted conservative  Predicted liberal\n",
      "Actual conservative                     413                136\n",
      "Actual liberal                          115                488\n",
      "\n",
      "--Metrics at Cutoff = 0.5--\n",
      "\n",
      "         specifity   FPR  recall  precision  accuracy  balanced_accuracy\n",
      "Metrics       75.2  24.8    80.9       78.2      78.2               78.1\n"
     ]
    }
   ],
   "source": [
    "from sklearn.ensemble import RandomForestClassifier\n",
    "import matplotlib.pyplot as plt\n",
    "import seaborn as sns\n",
    "import numpy as np\n",
    "import sklearn.metrics as metrics\n",
    "\n",
    "x   = x_train\n",
    "y   = y_train\n",
    "x_t = x_test\n",
    "y_t = y_test\n",
    "\n",
    "\n",
    "model_rf    = RandomForestClassifier(n_estimators = 2000, max_depth = 12)\n",
    "model_rf.fit(x, y)\n",
    "\n",
    "y_scores = model_rf.predict_proba(x_t)[:,1]\n",
    "y_pred   = model_rf.predict(x_t)\n",
    "\n",
    "# Print out the results\n",
    "print('--Model Performance Charts--')\n",
    "print()\n",
    "\n",
    "results_plot_summary(y_test, y_scores, pos_label = 1, labels = ['conservative', 'liberal'], labels_colors = ['b', 'r'], figsize = (24,4), metric_round = 4, bin_count = 50)\n",
    "\n",
    "th_conf = 0.5\n",
    "print()\n",
    "print(f'--Confusion Matrix at Cutoff = {th_conf}--')\n",
    "print()\n",
    "conf_matrix, metrics_at_target = conf_matrix_threshold(y_test, y_scores, th = th_conf, labels = [1, 2], labels_alias = ['conservative', 'liberal'], round_dec = 1)\n",
    "print(conf_matrix)\n",
    "print()\n",
    "print(f'--Metrics at Cutoff = {th_conf}--')\n",
    "print()\n",
    "print(pd.DataFrame(metrics_at_target, index=['Metrics']))"
   ]
  },
  {
   "cell_type": "markdown",
   "metadata": {
    "id": "M05tGqOcdokW"
   },
   "source": [
    "## Important Features "
   ]
  },
  {
   "cell_type": "code",
   "execution_count": 18,
   "metadata": {
    "colab": {
     "base_uri": "https://localhost:8080/",
     "height": 483
    },
    "id": "2WdOBQpO8I7D",
    "outputId": "7e40de12-83a9-4fc2-c2d4-1c8ca6d5e17f"
   },
   "outputs": [
    {
     "data": {
      "text/html": [
       "<div>\n",
       "<style scoped>\n",
       "    .dataframe tbody tr th:only-of-type {\n",
       "        vertical-align: middle;\n",
       "    }\n",
       "\n",
       "    .dataframe tbody tr th {\n",
       "        vertical-align: top;\n",
       "    }\n",
       "\n",
       "    .dataframe thead th {\n",
       "        text-align: right;\n",
       "    }\n",
       "</style>\n",
       "<table border=\"1\" class=\"dataframe\">\n",
       "  <thead>\n",
       "    <tr style=\"text-align: right;\">\n",
       "      <th></th>\n",
       "      <th>Importance</th>\n",
       "    </tr>\n",
       "  </thead>\n",
       "  <tbody>\n",
       "    <tr>\n",
       "      <th>issue</th>\n",
       "      <td>0.267337</td>\n",
       "    </tr>\n",
       "    <tr>\n",
       "      <th>caseOrigin</th>\n",
       "      <td>0.231112</td>\n",
       "    </tr>\n",
       "    <tr>\n",
       "      <th>caseSource</th>\n",
       "      <td>0.143614</td>\n",
       "    </tr>\n",
       "    <tr>\n",
       "      <th>lawType</th>\n",
       "      <td>0.105673</td>\n",
       "    </tr>\n",
       "    <tr>\n",
       "      <th>certReason</th>\n",
       "      <td>0.104328</td>\n",
       "    </tr>\n",
       "    <tr>\n",
       "      <th>naturalCourt</th>\n",
       "      <td>0.101521</td>\n",
       "    </tr>\n",
       "    <tr>\n",
       "      <th>adminAction</th>\n",
       "      <td>0.046416</td>\n",
       "    </tr>\n",
       "  </tbody>\n",
       "</table>\n",
       "</div>"
      ],
      "text/plain": [
       "              Importance\n",
       "issue           0.267337\n",
       "caseOrigin      0.231112\n",
       "caseSource      0.143614\n",
       "lawType         0.105673\n",
       "certReason      0.104328\n",
       "naturalCourt    0.101521\n",
       "adminAction     0.046416"
      ]
     },
     "execution_count": 18,
     "metadata": {},
     "output_type": "execute_result"
    }
   ],
   "source": [
    "f_importance = pd.DataFrame({'Importance': model_rf.feature_importances_}, index = x_train.columns).sort_values('Importance', ascending=False)\n",
    "f_importance.head(20)"
   ]
  }
 ],
 "metadata": {
  "colab": {
   "collapsed_sections": [],
   "name": "Supreme_Court_Direction_Prediction.ipynb",
   "provenance": [],
   "toc_visible": true
  },
  "kernelspec": {
   "display_name": "Python 3",
   "language": "python",
   "name": "python3"
  },
  "language_info": {
   "codemirror_mode": {
    "name": "ipython",
    "version": 3
   },
   "file_extension": ".py",
   "mimetype": "text/x-python",
   "name": "python",
   "nbconvert_exporter": "python",
   "pygments_lexer": "ipython3",
   "version": "3.7.6"
  }
 },
 "nbformat": 4,
 "nbformat_minor": 1
}
